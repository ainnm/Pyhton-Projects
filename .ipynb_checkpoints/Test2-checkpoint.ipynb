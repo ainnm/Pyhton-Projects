{
 "cells": [
  {
   "cell_type": "markdown",
   "id": "40e7e14c",
   "metadata": {},
   "source": [
    "# QUESTION 1"
   ]
  },
  {
   "cell_type": "code",
   "execution_count": 19,
   "id": "485a5222",
   "metadata": {},
   "outputs": [],
   "source": [
    "import numpy as np\n",
    "import scipy as sc\n",
    "import matplotlib.pyplot as plt"
   ]
  },
  {
   "cell_type": "code",
   "execution_count": 20,
   "id": "aba9db77",
   "metadata": {},
   "outputs": [],
   "source": [
    "#initial condition\n",
    "y0 = 1"
   ]
  },
  {
   "cell_type": "code",
   "execution_count": 14,
   "id": "49ea1151",
   "metadata": {},
   "outputs": [],
   "source": [
    "# differential equation \n",
    "def dydt(y, t):\n",
    "    dydt = -2*y*t\n",
    "    return dydt\n"
   ]
  },
  {
   "cell_type": "code",
   "execution_count": 7,
   "id": "8ad6e84b",
   "metadata": {},
   "outputs": [],
   "source": [
    "# create the x axis for the integration\n",
    "start = 0\n",
    "end = 2\n",
    "t = np.linspace(start, end, end)"
   ]
  },
  {
   "cell_type": "code",
   "execution_count": 8,
   "id": "b8b4e550",
   "metadata": {},
   "outputs": [],
   "source": [
    "yinitial = np.linspace(y0, y0, end)"
   ]
  },
  {
   "cell_type": "code",
   "execution_count": 16,
   "id": "82daad62",
   "metadata": {},
   "outputs": [],
   "source": [
    "# integration of the differential equation\n",
    "y = sc.integrate.odeint(dydt, y0, t)"
   ]
  },
  {
   "cell_type": "code",
   "execution_count": 57,
   "id": "7cc1a1a5",
   "metadata": {
    "scrolled": true
   },
   "outputs": [
    {
     "data": {
      "image/png": "[encoded data removed]",
      "text/plain": [
       "<Figure size 640x480 with 1 Axes>"
      ]
     },
     "metadata": {},
     "output_type": "display_data"
    }
   ],
   "source": [
    "# Plotting the results\n",
    "plt.figure()\n",
    "plt.plot(t, y, color='blue')\n",
    "plt.title('ODE')\n",
    "plt.xlabel('t')\n",
    "plt.ylabel('y')\n",
    "plt.show()"
   ]
  },
  {
   "cell_type": "markdown",
   "id": "d3153c7f",
   "metadata": {},
   "source": [
    "# QUESTION 2"
   ]
  },
  {
   "cell_type": "code",
   "execution_count": 34,
   "id": "ca383777",
   "metadata": {},
   "outputs": [],
   "source": [
    "import numpy as np"
   ]
  },
  {
   "cell_type": "code",
   "execution_count": 35,
   "id": "3211912c",
   "metadata": {},
   "outputs": [],
   "source": [
    "# Define the coefficient matrix A and matrix B\n",
    "A = np.array([[2, 4, 6], [5, 3, 2], [7, 8, 9]])\n",
    "B = np.array([[18], [13], [30]])"
   ]
  },
  {
   "cell_type": "code",
   "execution_count": 36,
   "id": "65106fba",
   "metadata": {
    "scrolled": true
   },
   "outputs": [
    {
     "name": "stdout",
     "output_type": "stream",
     "text": [
      "[[2 4 6]\n",
      " [5 3 2]\n",
      " [7 8 9]]\n",
      "[[18]\n",
      " [13]\n",
      " [30]]\n"
     ]
    }
   ],
   "source": [
    "print(A)\n",
    "print(B)"
   ]
  },
  {
   "cell_type": "code",
   "execution_count": 37,
   "id": "fd180ca4",
   "metadata": {},
   "outputs": [],
   "source": [
    "C = np.linalg.solve(A, B)"
   ]
  },
  {
   "cell_type": "code",
   "execution_count": 38,
   "id": "461ab93c",
   "metadata": {},
   "outputs": [
    {
     "name": "stdout",
     "output_type": "stream",
     "text": [
      "[[ 4.5]\n",
      " [-7.5]\n",
      " [ 6.5]]\n"
     ]
    }
   ],
   "source": [
    "print(C)"
   ]
  },
  {
   "cell_type": "markdown",
   "id": "45f0a089",
   "metadata": {},
   "source": [
    "# QUESTION 3"
   ]
  },
  {
   "cell_type": "code",
   "execution_count": 56,
   "id": "02cc69da",
   "metadata": {},
   "outputs": [
    {
     "name": "stdout",
     "output_type": "stream",
     "text": [
      "Hourly: latitude, Temperature: latitude\n",
      "Hourly: longitude, Temperature: latitude\n",
      "Hourly: generationtime_ms, Temperature: latitude\n",
      "Hourly: utc_offset_seconds, Temperature: latitude\n",
      "Hourly: timezone, Temperature: latitude\n",
      "Hourly: timezone_abbreviation, Temperature: latitude\n",
      "Hourly: elevation, Temperature: latitude\n",
      "Hourly: hourly_units, Temperature: latitude\n",
      "Hourly: hourly, Temperature: latitude\n"
     ]
    }
   ],
   "source": [
    "import requests\n",
    "api_url = \"https://api.open-meteo.com/v1/forecast?latitude=2.5&longitude=112.5&hourly=temperature_2m&timezone=Asia%2FSingapore&forecast_days=1\"\n",
    "response = requests.get(api_url)\n",
    "hourly_temperature_data = response.json()\n",
    "\n",
    "for time in hourly_temperature_data:\n",
    "    print(f\"Hourly: {time}, Temperature: {temperature}\")\n"
   ]
  },
  {
   "cell_type": "code",
   "execution_count": null,
   "id": "157dd3ad",
   "metadata": {},
   "outputs": [],
   "source": []
  }
 ],
 "metadata": {
  "kernelspec": {
   "display_name": "Python 3 (ipykernel)",
   "language": "python",
   "name": "python3"
  },
  "language_info": {
   "codemirror_mode": {
    "name": "ipython",
    "version": 3
   },
   "file_extension": ".py",
   "mimetype": "text/x-python",
   "name": "python",
   "nbconvert_exporter": "python",
   "pygments_lexer": "ipython3",
   "version": "3.11.5"
  }
 },
 "nbformat": 4,
 "nbformat_minor": 5
}
