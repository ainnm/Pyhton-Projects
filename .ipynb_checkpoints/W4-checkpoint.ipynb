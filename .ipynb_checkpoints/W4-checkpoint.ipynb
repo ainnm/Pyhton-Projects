{
 "cells": [
  {
   "cell_type": "code",
   "execution_count": 1,
   "id": "793b61c7",
   "metadata": {},
   "outputs": [
    {
     "name": "stdout",
     "output_type": "stream",
     "text": [
      "Enter a number: xs\n"
     ]
    },
    {
     "ename": "ValueError",
     "evalue": "invalid literal for int() with base 10: 'xs'",
     "output_type": "error",
     "traceback": [
      "\u001b[1;31m---------------------------------------------------------------------------\u001b[0m",
      "\u001b[1;31mValueError\u001b[0m                                Traceback (most recent call last)",
      "Cell \u001b[1;32mIn[1], line 1\u001b[0m\n\u001b[1;32m----> 1\u001b[0m number \u001b[38;5;241m=\u001b[39m \u001b[38;5;28mint\u001b[39m(\u001b[38;5;28minput\u001b[39m(\u001b[38;5;124m\"\u001b[39m\u001b[38;5;124mEnter a number: \u001b[39m\u001b[38;5;124m\"\u001b[39m))\n",
      "\u001b[1;31mValueError\u001b[0m: invalid literal for int() with base 10: 'xs'"
     ]
    }
   ],
   "source": [
    "number = int(input(\"Enter a number: \"))  "
   ]
  },
  {
   "cell_type": "code",
   "execution_count": 2,
   "id": "3a0568d5",
   "metadata": {},
   "outputs": [
    {
     "ename": "TypeError",
     "evalue": "can only concatenate str (not \"int\") to str",
     "output_type": "error",
     "traceback": [
      "\u001b[1;31m---------------------------------------------------------------------------\u001b[0m",
      "\u001b[1;31mTypeError\u001b[0m                                 Traceback (most recent call last)",
      "Cell \u001b[1;32mIn[2], line 1\u001b[0m\n\u001b[1;32m----> 1\u001b[0m x \u001b[38;5;241m=\u001b[39m\u001b[38;5;124m\"\u001b[39m\u001b[38;5;124m2\u001b[39m\u001b[38;5;124m\"\u001b[39m \u001b[38;5;241m+\u001b[39m \u001b[38;5;241m2\u001b[39m\n",
      "\u001b[1;31mTypeError\u001b[0m: can only concatenate str (not \"int\") to str"
     ]
    }
   ],
   "source": [
    "x =\"2\" + 2"
   ]
  },
  {
   "cell_type": "code",
   "execution_count": 5,
   "id": "f8dcc0e3",
   "metadata": {},
   "outputs": [
    {
     "name": "stdout",
     "output_type": "stream",
     "text": [
      "the data that you input is not int\n"
     ]
    }
   ],
   "source": [
    "try:\n",
    "    #code that might raise an exception\n",
    "    x= \"2\" + 2\n",
    "except:\n",
    "    #code that runs if the exception occurs\n",
    "    print(\"the data that you input is not int\")"
   ]
  },
  {
   "cell_type": "code",
   "execution_count": 7,
   "id": "038de0d6",
   "metadata": {},
   "outputs": [
    {
     "name": "stdout",
     "output_type": "stream",
     "text": [
      "type error\n"
     ]
    }
   ],
   "source": [
    "try: \n",
    "    x= \"2\" + 2\n",
    "except TypeError:\n",
    "    print(\"type error\")\n",
    "except ValueError:\n",
    "    print(\"value error\")"
   ]
  },
  {
   "cell_type": "code",
   "execution_count": 8,
   "id": "f4afb2e1",
   "metadata": {},
   "outputs": [
    {
     "name": "stdout",
     "output_type": "stream",
     "text": [
      "value error\n"
     ]
    }
   ],
   "source": [
    "try: \n",
    "    int('a')\n",
    "except TypeError:\n",
    "    print(\"type error\")\n",
    "except ValueError:\n",
    "    print(\"value error\")"
   ]
  },
  {
   "cell_type": "code",
   "execution_count": 3,
   "id": "7b409f35",
   "metadata": {
    "scrolled": true
   },
   "outputs": [
    {
     "ename": "ValueError",
     "evalue": "invalid literal for int() with base 10: 'a'",
     "output_type": "error",
     "traceback": [
      "\u001b[1;31m---------------------------------------------------------------------------\u001b[0m",
      "\u001b[1;31mValueError\u001b[0m                                Traceback (most recent call last)",
      "Cell \u001b[1;32mIn[3], line 1\u001b[0m\n\u001b[1;32m----> 1\u001b[0m \u001b[38;5;28mint\u001b[39m(\u001b[38;5;124m'\u001b[39m\u001b[38;5;124ma\u001b[39m\u001b[38;5;124m'\u001b[39m)\n",
      "\u001b[1;31mValueError\u001b[0m: invalid literal for int() with base 10: 'a'"
     ]
    }
   ],
   "source": [
    "int('a') "
   ]
  },
  {
   "cell_type": "code",
   "execution_count": 9,
   "id": "9313ed1e",
   "metadata": {},
   "outputs": [
    {
     "ename": "IndexError",
     "evalue": "list index out of range",
     "output_type": "error",
     "traceback": [
      "\u001b[1;31m---------------------------------------------------------------------------\u001b[0m",
      "\u001b[1;31mIndexError\u001b[0m                                Traceback (most recent call last)",
      "Cell \u001b[1;32mIn[9], line 3\u001b[0m\n\u001b[0;32m      1\u001b[0m my_list \u001b[38;5;241m=\u001b[39m[\u001b[38;5;241m1\u001b[39m,\u001b[38;5;241m2\u001b[39m,\u001b[38;5;241m3\u001b[39m]\n\u001b[1;32m----> 3\u001b[0m my_list[\u001b[38;5;241m10\u001b[39m]\n",
      "\u001b[1;31mIndexError\u001b[0m: list index out of range"
     ]
    }
   ],
   "source": [
    "my_list =[1,2,3]\n",
    "\n",
    "my_list[10]"
   ]
  },
  {
   "cell_type": "code",
   "execution_count": 11,
   "id": "ae201688",
   "metadata": {},
   "outputs": [
    {
     "name": "stdout",
     "output_type": "stream",
     "text": [
      "Enter a number: w\n",
      "That's not a number!\n",
      "This is executed no matter what!\n"
     ]
    }
   ],
   "source": [
    "try:\n",
    "    number = int(input(\"Enter a number: \"))\n",
    "except ValueError:\n",
    "    print(\"That's not a number!\")\n",
    "else:\n",
    "    print(\"You entered a number!\")\n",
    "finally:\n",
    "    print(\"This is executed no matter what!\")\n"
   ]
  },
  {
   "cell_type": "code",
   "execution_count": 12,
   "id": "4256f6c7",
   "metadata": {},
   "outputs": [
    {
     "name": "stdout",
     "output_type": "stream",
     "text": [
      "Enter a number: 0\n",
      "Division by zero is not allowed.\n"
     ]
    }
   ],
   "source": [
    "try:\n",
    "    user_input = input(\"Enter a number: \")\n",
    "    result = 1 / int(user_input)\n",
    "    print(result)\n",
    "except ValueError:\n",
    "    print(\"Please enter a valid integer.\")\n",
    "except ZeroDivisionError:\n",
    "    print(\"Division by zero is not allowed.\")"
   ]
  },
  {
   "cell_type": "code",
   "execution_count": 2,
   "id": "9b46ba5b",
   "metadata": {},
   "outputs": [
    {
     "name": "stdout",
     "output_type": "stream",
     "text": [
      "Enter a number: 0\n",
      "Division by zero is not allowed.\n"
     ]
    }
   ],
   "source": [
    "try:\n",
    "    user_input = input(\"Enter a number: \")\n",
    "    result = 1 / int(user_input)\n",
    "    print(result)\n",
    "except ValueError:\n",
    "    print(\"Please enter a valid integer.\")\n",
    "except ZeroDivisionError:\n",
    "    print(\"Division by zero is not allowed.\")"
   ]
  },
  {
   "cell_type": "markdown",
   "id": "0fd81095",
   "metadata": {},
   "source": [
    "# Assignment 3 (calculator)"
   ]
  },
  {
   "cell_type": "code",
   "execution_count": 13,
   "id": "a7af2c4e",
   "metadata": {},
   "outputs": [
    {
     "name": "stdout",
     "output_type": "stream",
     "text": [
      "Enter a number 1: 1\n",
      "Enter a number 2: 0\n",
      "Enter Operation: division\n",
      "Division by zero is not allowed.\n",
      "Enter a number 1: 1\n",
      "Enter a number 2: 2\n",
      "Enter Operation: division\n",
      "0.5\n"
     ]
    }
   ],
   "source": [
    "def sum(a,b):\n",
    "    # a function that adds two parameters\n",
    "    return a+b\n",
    "\n",
    "def sub(a,b):\n",
    "    # a function that subtracts two parameters\n",
    "    return a-b\n",
    "\n",
    "def mult(a,b):\n",
    "    # a function that multiples two parameters\n",
    "    return a*b\n",
    "\n",
    "def divi(a,b):\n",
    "    # a function that divids two parameters\n",
    "    return a/b\n",
    "\n",
    "value=1\n",
    "\n",
    "while value==1:\n",
    "    try:\n",
    "        a = int(input(\"Enter a number 1: \"))\n",
    "        b = int(input(\"Enter a number 2: \"))\n",
    "        operation = str(input(\"Enter Operation: \"))\n",
    "        \n",
    "        if operation == 'addition':\n",
    "            print(sum(a,b))\n",
    "            break\n",
    "        if operation == 'subtraction':\n",
    "            print(sub(a,b))\n",
    "            break\n",
    "        if operation == 'multiplication':\n",
    "            print(mult(a,b))\n",
    "            break\n",
    "        if operation == 'division':\n",
    "            print(divi(a,b))\n",
    "            break\n",
    "       \n",
    "    except ValueError:\n",
    "        print(\"Please enter a valid integer.\")\n",
    "    except ZeroDivisionError:\n",
    "        print(\"Division by zero is not allowed.\")\n",
    "    except exception:\n",
    "        print(\"Error\")"
   ]
  },
  {
   "cell_type": "code",
   "execution_count": 14,
   "id": "d96222ca",
   "metadata": {},
   "outputs": [
    {
     "name": "stdout",
     "output_type": "stream",
     "text": [
      "Enter a number 1: s\n",
      "Please enter a valid integer.\n",
      "Enter a number 1: 3\n",
      "Enter a number 2: 4\n",
      "Enter Operation: multiplication\n",
      "12\n"
     ]
    }
   ],
   "source": [
    "def sum(a,b):\n",
    "    # a function that adds two parameters\n",
    "    return a+b\n",
    "\n",
    "def sub(a,b):\n",
    "    # a function that subtracts two parameters\n",
    "    return a-b\n",
    "\n",
    "def mult(a,b):\n",
    "    # a function that multiples two parameters\n",
    "    return a*b\n",
    "\n",
    "def divi(a,b):\n",
    "    # a function that divids two parameters\n",
    "    return a/b\n",
    "\n",
    "value=1\n",
    "\n",
    "while value==1:\n",
    "    try:\n",
    "        a = int(input(\"Enter a number 1: \"))\n",
    "        b = int(input(\"Enter a number 2: \"))\n",
    "        operation = str(input(\"Enter Operation: \"))\n",
    "        \n",
    "        if operation == 'addition':\n",
    "            print(sum(a,b))\n",
    "            break\n",
    "        if operation == 'subtraction':\n",
    "            print(sub(a,b))\n",
    "            break\n",
    "        if operation == 'multiplication':\n",
    "            print(mult(a,b))\n",
    "            break\n",
    "        if operation == 'division':\n",
    "            print(divi(a,b))\n",
    "            break\n",
    "       \n",
    "    except ValueError:\n",
    "        print(\"Please enter a valid integer.\")\n",
    "    except ZeroDivisionError:\n",
    "        print(\"Division by zero is not allowed.\")\n",
    "    except exception:\n",
    "        print(\"Error\")"
   ]
  },
  {
   "cell_type": "code",
   "execution_count": null,
   "id": "86cc5a6e",
   "metadata": {},
   "outputs": [],
   "source": []
  }
 ],
 "metadata": {
  "kernelspec": {
   "display_name": "Python 3 (ipykernel)",
   "language": "python",
   "name": "python3"
  },
  "language_info": {
   "codemirror_mode": {
    "name": "ipython",
    "version": 3
   },
   "file_extension": ".py",
   "mimetype": "text/x-python",
   "name": "python",
   "nbconvert_exporter": "python",
   "pygments_lexer": "ipython3",
   "version": "3.11.5"
  }
 },
 "nbformat": 4,
 "nbformat_minor": 5
}
