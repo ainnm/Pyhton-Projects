{
 "cells": [
  {
   "cell_type": "code",
   "execution_count": 23,
   "id": "a3ce8416",
   "metadata": {},
   "outputs": [],
   "source": [
    "fruits=['apple','banana','cherry','papaya','kiwi','durian','rambutan','pineapple']"
   ]
  },
  {
   "cell_type": "markdown",
   "id": "c1e956fa",
   "metadata": {},
   "source": [
    "# use for loop to find a given fruit name in the list\n",
    "change code--->heading"
   ]
  },
  {
   "cell_type": "code",
   "execution_count": 28,
   "id": "289e5e6b",
   "metadata": {},
   "outputs": [
    {
     "name": "stdout",
     "output_type": "stream",
     "text": [
      "apple\n",
      "banana\n",
      "cherry\n",
      "papaya\n",
      "kiwi\n",
      "durian\n",
      "rambutan\n",
      "pineapple\n"
     ]
    }
   ],
   "source": [
    "for fruit in fruits:\n",
    "    print(fruit)\n"
   ]
  },
  {
   "cell_type": "code",
   "execution_count": 27,
   "id": "133fe1b1",
   "metadata": {},
   "outputs": [
    {
     "name": "stdout",
     "output_type": "stream",
     "text": [
      "the item name is apple at index: 1\n",
      "the item name is banana at index: 2\n",
      "the item name is cherry at index: 3\n",
      "the item name is papaya at index: 4\n",
      "the item name is kiwi at index: 5\n",
      "the item name is durian at index: 6\n",
      "the item name is rambutan at index: 7\n",
      "the item name is pineapple at index: 8\n"
     ]
    }
   ],
   "source": [
    "index = 1\n",
    "for item in fruits:\n",
    "    print(\"the item name is \" + item + \" at index:\",index)\n",
    "    index += 1"
   ]
  },
  {
   "cell_type": "code",
   "execution_count": 25,
   "id": "20dfc23f",
   "metadata": {},
   "outputs": [
    {
     "name": "stdout",
     "output_type": "stream",
     "text": [
      "the item name is apple at index: 1\n",
      "the item name is pineapple at index: 8\n"
     ]
    }
   ],
   "source": [
    "index = 1\n",
    "for item in fruits:\n",
    "    if 'apple' in item: #in means if anything words that have apple in there, it will run\n",
    "        print(\"the item name is \" + item + \" at index:\",index)\n",
    "    index += 1\n"
   ]
  },
  {
   "cell_type": "code",
   "execution_count": 26,
   "id": "e37155fe",
   "metadata": {},
   "outputs": [
    {
     "name": "stdout",
     "output_type": "stream",
     "text": [
      "the item name is apple at index: 1\n"
     ]
    }
   ],
   "source": [
    "index = 1\n",
    "for item in fruits:\n",
    "    if 'apple' == item: # == means it will run if apple word\n",
    "        print(\"the item name is \" + item + \" at index:\",index)\n",
    "    index += 1"
   ]
  },
  {
   "cell_type": "code",
   "execution_count": 2,
   "id": "1452cd2d",
   "metadata": {},
   "outputs": [
    {
     "name": "stdout",
     "output_type": "stream",
     "text": [
      "0\n",
      "1\n",
      "2\n",
      "3\n",
      "4\n"
     ]
    }
   ],
   "source": [
    "count = 0\n",
    "while count < 5:\n",
    "    print(count)\n",
    "    count += 1\n"
   ]
  },
  {
   "cell_type": "code",
   "execution_count": 3,
   "id": "c3648333",
   "metadata": {},
   "outputs": [
    {
     "name": "stdout",
     "output_type": "stream",
     "text": [
      "0\n",
      "1\n",
      "2\n",
      "3\n",
      "4\n"
     ]
    }
   ],
   "source": [
    "for num in range(10): #range start 0 if we xtetapkn n end at num 9 n before 10\n",
    "    if num == 5:\n",
    "        break   #but coding end at 5 bc break\n",
    "    print(num)\n"
   ]
  },
  {
   "cell_type": "code",
   "execution_count": 4,
   "id": "10faf6fd",
   "metadata": {},
   "outputs": [
    {
     "name": "stdout",
     "output_type": "stream",
     "text": [
      "0\n",
      "1\n",
      "2\n",
      "3\n"
     ]
    }
   ],
   "source": [
    "for num in range(4):\n",
    "    if num == 5:\n",
    "        break\n",
    "    print(num)\n"
   ]
  },
  {
   "cell_type": "code",
   "execution_count": 5,
   "id": "8899188b",
   "metadata": {},
   "outputs": [
    {
     "name": "stdout",
     "output_type": "stream",
     "text": [
      "0\n",
      "1\n",
      "3\n",
      "4\n"
     ]
    }
   ],
   "source": [
    "for num in range(5):\n",
    "    if num == 2:\n",
    "        continue\n",
    "    print(num)"
   ]
  },
  {
   "cell_type": "code",
   "execution_count": 6,
   "id": "dcf8177d",
   "metadata": {},
   "outputs": [
    {
     "name": "stdout",
     "output_type": "stream",
     "text": [
      "0 0\n",
      "0 1\n",
      "0 2\n",
      "1 0\n",
      "1 1\n",
      "1 2\n",
      "2 0\n",
      "2 1\n",
      "2 2\n"
     ]
    }
   ],
   "source": [
    "for i in range(3):\n",
    "    for j in range(3):\n",
    "        print(i, j)\n"
   ]
  },
  {
   "cell_type": "markdown",
   "id": "6f9b6182",
   "metadata": {},
   "source": [
    "# Assignment 2 (Loops and Iteration)"
   ]
  },
  {
   "cell_type": "code",
   "execution_count": 8,
   "id": "da377e8a",
   "metadata": {},
   "outputs": [
    {
     "name": "stdout",
     "output_type": "stream",
     "text": [
      "1\n",
      "2\n",
      "3\n",
      "4\n",
      "5\n",
      "6\n",
      "7\n",
      "8\n",
      "9\n",
      "10\n"
     ]
    }
   ],
   "source": [
    "count = 1\n",
    "while count <= 10:\n",
    "    print(count)\n",
    "    count += 1\n"
   ]
  },
  {
   "cell_type": "code",
   "execution_count": 29,
   "id": "296bfd31",
   "metadata": {},
   "outputs": [
    {
     "name": "stdout",
     "output_type": "stream",
     "text": [
      "1\n",
      "2\n",
      "3\n",
      "4\n",
      "5\n",
      "6\n",
      "7\n",
      "8\n",
      "9\n",
      "10\n"
     ]
    }
   ],
   "source": [
    "count = 1\n",
    "for i in range(1, 11): #start 1 n end before 11\n",
    "    print(i)\n",
    "\n"
   ]
  },
  {
   "cell_type": "code",
   "execution_count": 10,
   "id": "3061a66b",
   "metadata": {},
   "outputs": [
    {
     "name": "stdout",
     "output_type": "stream",
     "text": [
      "2\n",
      "4\n",
      "6\n",
      "8\n",
      "10\n"
     ]
    }
   ],
   "source": [
    "numbers = [1, 2, 3, 4, 5, 6, 7, 8, 9, 10]\n",
    " \n",
    "for num in numbers:\n",
    "    if num % 2 == 0:\n",
    "        print(num)\n"
   ]
  },
  {
   "cell_type": "code",
   "execution_count": 11,
   "id": "68729f98",
   "metadata": {},
   "outputs": [
    {
     "name": "stdout",
     "output_type": "stream",
     "text": [
      "1\n",
      "3\n",
      "5\n",
      "7\n",
      "9\n"
     ]
    }
   ],
   "source": [
    "numbers = [1, 2, 3, 4, 5, 6, 7, 8, 9, 10]\n",
    " \n",
    "for num in numbers:\n",
    "    if num % 2 != 0:\n",
    "        print(num)\n"
   ]
  },
  {
   "cell_type": "code",
   "execution_count": 12,
   "id": "3f4c4900",
   "metadata": {},
   "outputs": [
    {
     "name": "stdout",
     "output_type": "stream",
     "text": [
      "1 x 1 = 1\n",
      "1 x 2 = 2\n",
      "1 x 3 = 3\n",
      "1 x 4 = 4\n",
      "1 x 5 = 5\n",
      "------\n",
      "2 x 1 = 2\n",
      "2 x 2 = 4\n",
      "2 x 3 = 6\n",
      "2 x 4 = 8\n",
      "2 x 5 = 10\n",
      "------\n",
      "3 x 1 = 3\n",
      "3 x 2 = 6\n",
      "3 x 3 = 9\n",
      "3 x 4 = 12\n",
      "3 x 5 = 15\n",
      "------\n",
      "4 x 1 = 4\n",
      "4 x 2 = 8\n",
      "4 x 3 = 12\n",
      "4 x 4 = 16\n",
      "4 x 5 = 20\n",
      "------\n",
      "5 x 1 = 5\n",
      "5 x 2 = 10\n",
      "5 x 3 = 15\n",
      "5 x 4 = 20\n",
      "5 x 5 = 25\n",
      "------\n"
     ]
    }
   ],
   "source": [
    "for i in range(1, 6):\n",
    "    for j in range(1, 6):\n",
    "        print(i, \"x\", j, \"=\", i * j)\n",
    "    print(\"------\")\n"
   ]
  },
  {
   "cell_type": "code",
   "execution_count": 30,
   "id": "fc249127",
   "metadata": {},
   "outputs": [
    {
     "name": "stdout",
     "output_type": "stream",
     "text": [
      "1 pow 1 = 1.0\n",
      "1 pow 2 = 1.0\n",
      "1 pow 3 = 1.0\n",
      "1 pow 4 = 1.0\n",
      "1 pow 5 = 1.0\n",
      "------\n",
      "2 pow 1 = 2.0\n",
      "2 pow 2 = 4.0\n",
      "2 pow 3 = 8.0\n",
      "2 pow 4 = 16.0\n",
      "2 pow 5 = 32.0\n",
      "------\n",
      "3 pow 1 = 3.0\n",
      "3 pow 2 = 9.0\n",
      "3 pow 3 = 27.0\n",
      "3 pow 4 = 81.0\n",
      "3 pow 5 = 243.0\n",
      "------\n",
      "4 pow 1 = 4.0\n",
      "4 pow 2 = 16.0\n",
      "4 pow 3 = 64.0\n",
      "4 pow 4 = 256.0\n",
      "4 pow 5 = 1024.0\n",
      "------\n",
      "5 pow 1 = 5.0\n",
      "5 pow 2 = 25.0\n",
      "5 pow 3 = 125.0\n",
      "5 pow 4 = 625.0\n",
      "5 pow 5 = 3125.0\n",
      "------\n"
     ]
    }
   ],
   "source": [
    "import math\n",
    "\n",
    "for i in range(1, 6):\n",
    "    for j in range(1, 6):\n",
    "        print(i, \"pow\", j, \"=\", math.pow(i,j))\n",
    "    print(\"------\")"
   ]
  },
  {
   "cell_type": "code",
   "execution_count": null,
   "id": "94732586",
   "metadata": {},
   "outputs": [],
   "source": []
  }
 ],
 "metadata": {
  "kernelspec": {
   "display_name": "Python 3 (ipykernel)",
   "language": "python",
   "name": "python3"
  },
  "language_info": {
   "codemirror_mode": {
    "name": "ipython",
    "version": 3
   },
   "file_extension": ".py",
   "mimetype": "text/x-python",
   "name": "python",
   "nbconvert_exporter": "python",
   "pygments_lexer": "ipython3",
   "version": "3.11.5"
  }
 },
 "nbformat": 4,
 "nbformat_minor": 5
}
