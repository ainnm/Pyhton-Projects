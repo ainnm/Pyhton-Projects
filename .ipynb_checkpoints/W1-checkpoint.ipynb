{
 "cells": [
  {
   "cell_type": "code",
   "execution_count": 10,
   "id": "df709f39",
   "metadata": {},
   "outputs": [
    {
     "name": "stdout",
     "output_type": "stream",
     "text": [
      "10\n",
      "No such grade in the system\n"
     ]
    }
   ],
   "source": [
    "grade = int(input())\n",
    "\n",
    "if grade == \"A\":\n",
    "    print(\"Congratulations!\")\n",
    "elif grade == \"B\":\n",
    "    print(\"Good\")\n",
    "elif grade == \"C\":\n",
    "    print(\"Pass\")\n",
    "elif grade == \"X\":\n",
    "    print(\"X is there\")\n",
    "else:\n",
    "    print(\"No such grade in the system\")"
   ]
  },
  {
   "cell_type": "code",
   "execution_count": 11,
   "id": "554341b0",
   "metadata": {},
   "outputs": [
    {
     "name": "stdout",
     "output_type": "stream",
     "text": [
      "<class 'int'>\n"
     ]
    }
   ],
   "source": [
    "print(type(grade))"
   ]
  },
  {
   "cell_type": "code",
   "execution_count": 12,
   "id": "e84bc319",
   "metadata": {},
   "outputs": [
    {
     "name": "stdout",
     "output_type": "stream",
     "text": [
      "20\n"
     ]
    }
   ],
   "source": [
    "if grade == 10:\n",
    "    print(grade + 10)"
   ]
  },
  {
   "cell_type": "code",
   "execution_count": null,
   "id": "6f293175",
   "metadata": {},
   "outputs": [],
   "source": []
  }
 ],
 "metadata": {
  "kernelspec": {
   "display_name": "Python 3 (ipykernel)",
   "language": "python",
   "name": "python3"
  },
  "language_info": {
   "codemirror_mode": {
    "name": "ipython",
    "version": 3
   },
   "file_extension": ".py",
   "mimetype": "text/x-python",
   "name": "python",
   "nbconvert_exporter": "python",
   "pygments_lexer": "ipython3",
   "version": "3.11.5"
  }
 },
 "nbformat": 4,
 "nbformat_minor": 5
}
